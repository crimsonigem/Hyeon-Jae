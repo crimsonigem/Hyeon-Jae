{
 "cells": [
  {
   "cell_type": "markdown",
   "metadata": {},
   "source": [
    "## Curli Production Pathway"
   ]
  },
  {
   "cell_type": "markdown",
   "metadata": {},
   "source": [
    "### Import Libraries"
   ]
  },
  {
   "cell_type": "code",
   "execution_count": 1,
   "metadata": {
    "collapsed": true
   },
   "outputs": [],
   "source": [
    "from scipy.integrate import odeint\n",
    "from scipy.integrate import ode\n",
    "import numpy as np\n",
    "import pandas as pd\n",
    "import math\n",
    "\n",
    "import plotly.graph_objs as go\n",
    "import plotly.figure_factory as ff\n",
    "import plotly.plotly as py"
   ]
  },
  {
   "cell_type": "markdown",
   "metadata": {},
   "source": [
    "### Define Parameters"
   ]
  },
  {
   "cell_type": "code",
   "execution_count": 2,
   "metadata": {
    "collapsed": true
   },
   "outputs": [],
   "source": [
    "### TIME INTERVAL\n",
    "tmin = 0\n",
    "tmax = 20\n",
    "tint = 1\n",
    "t = np.arange(tmin, tmax, tint) \n",
    "\n",
    "### CONSTANTS\n",
    "# Transcription\n",
    "alpha1 = 0.0921 # csgA (seq/sec)\n",
    "alpha2 = 0.0214 # csgBCEFG (seq/sec)\n",
    "\n",
    "# mRNA Degradation\n",
    "half_life = 408 # seconds\n",
    "zeta1 = math.log(2)/half_life\n",
    "zeta2 = math.log(2)/half_life\n",
    "\n",
    "# Translation\n",
    "beta0 = 0.1 # (protein/sec)\n",
    "brange = np.arange(0.0, 2.1, 0.1)\n",
    "beta = beta0 * brange\n",
    "\n",
    "# Periplasmic Export\n",
    "gamma1 = 0.25 # uM^(-4)sec^(-1)\n",
    "gamma1d = 0.025 # sec^(-1)\n",
    "gamma2 = 0.0085 # uM^(-4)sec^(-1)\n",
    "gamma3 = 1.00 # sec^(-1)\n",
    "\n",
    "# Extracellular Secretion\n",
    "delta1 = 0.76 \n",
    "delta1d = 28e-3 # s^-1\n",
    "delta3 = 0.76 \n",
    "delta3d = 28e-3 # s^-1\n",
    "delta4 = 0.0384 # uM^(-1)sec^(-1)\n",
    "delta4d = 0.76 # also try 0.0385 ????? (homotetramer formation or dimerization?)\n",
    "delta5 = 0.25 # uM^(-4)sec^(-1)\n",
    "\n",
    "# Diffusion\n",
    "N_A = 6.022e23\n",
    "omega = 10e-9\n",
    "D = 1e-10\n",
    "SA = 4.42e-12\n",
    "\n",
    "# Aggregation / Polymerization \n",
    "epsilon1 = 1.038e-8 # s^(-1)uM^(-1)\n",
    "epsilon1d = 2.805e-9 # s^(-1)uM^(-1)\n",
    "epsilon2 = 0.764 # s^(-1)uM^(-1)\n",
    "epsilon2d = 5.111e-4 # s^(-1)uM^(-1)"
   ]
  },
  {
   "cell_type": "markdown",
   "metadata": {},
   "source": [
    "### Define Initial Conditions"
   ]
  },
  {
   "cell_type": "code",
   "execution_count": 3,
   "metadata": {
    "collapsed": true
   },
   "outputs": [],
   "source": [
    "g_csgA_0 = 71.4e-8 # uM\n",
    "g_csgBCEFG_0 = 71.4e-8 # uM\n",
    "mRNA_csgA_0 = 0.0\n",
    "mRNA_csgBCEFG_0 = 0.0\n",
    "\n",
    "csgA_cyt_0 = 0.0\n",
    "secBcsgA_0 = 0.0\n",
    "secABYEGcsgA_0 = 0.0\n",
    "F_cyt_0 = 0.0\n",
    "csgB_cyt_0 = 0.0\n",
    "secBcsgB_0 = 0.0\n",
    "secABYEGcsgB_0 = 0.0\n",
    "csgC_cyt_0 = 0.0\n",
    "secBcsgC_0 = 0.0\n",
    "secABYEGcsgC_0 = 0.0\n",
    "csgE_cyt_0 = 0.0\n",
    "secBcsgE_0 = 0.0\n",
    "secABYEGcsgE_0 = 0.0\n",
    "csgF_cyt_0 = 0.0\n",
    "secBcsgF_0 = 0.0\n",
    "secABYEGcsgF_0 = 0.0\n",
    "csgG_cyt_0 = 0.0\n",
    "secBcsgG_0 = 0.0\n",
    "secABYEGcsgG_0 = 0.0\n",
    "SecB_0 = 0.4 # uM\n",
    "SecA_0 = 0.2\n",
    "SecYEG_0 = 0.2\n",
    "\n",
    "csgG_9_0 = 0.0\n",
    "csgE_9_0 = 0.0\n",
    "csgGEF_0 = 0.0\n",
    "csgA_per_0 = 0.0\n",
    "F_per_0 = 0.0\n",
    "csgB_per_0 = 0.0\n",
    "csgC_per_0 = 0.0\n",
    "csgCcsgA_0 = 0.0\n",
    "csgCcsgB_0 = 0.0\n",
    "csgE_per_0 = 0.0\n",
    "csgF_per_0 = 0.0\n",
    "csgG_per_0 = 0.0\n",
    "\n",
    "csgF_ECM_0 = 0.0\n",
    "csgA_ECM_0 = 0.0\n",
    "F_ECM_0 = 0.0\n",
    "csgB_ECM_0 = 0.0\n",
    "    \n",
    "state_0 = [g_csgA_0, g_csgBCEFG_0, mRNA_csgA_0, mRNA_csgBCEFG_0, csgA_cyt_0, secBcsgA_0, \n",
    "           secABYEGcsgA_0, F_cyt_0, csgB_cyt_0, secBcsgB_0, secABYEGcsgB_0, csgC_cyt_0, \n",
    "           secBcsgC_0, secABYEGcsgC_0, csgE_cyt_0, secBcsgE_0, secABYEGcsgE_0, csgF_cyt_0, \n",
    "           secBcsgF_0, secABYEGcsgF_0, csgG_cyt_0, secBcsgG_0, secABYEGcsgG_0, SecB_0, SecA_0, \n",
    "           SecYEG_0, csgG_9_0, csgE_9_0, csgGEF_0, csgA_per_0, F_per_0, csgB_per_0, csgC_per_0,\n",
    "           csgCcsgA_0, csgCcsgB_0, csgE_per_0, csgF_per_0, csgG_per_0, csgF_ECM_0, csgA_ECM_0,\n",
    "           F_ECM_0, csgB_ECM_0]"
   ]
  },
  {
   "cell_type": "markdown",
   "metadata": {},
   "source": [
    "### ODE Solver"
   ]
  },
  {
   "cell_type": "code",
   "execution_count": 4,
   "metadata": {
    "collapsed": true,
    "scrolled": true
   },
   "outputs": [],
   "source": [
    "def CsgPathway(state, t, beta1, beta2, beta3, beta4, beta5, beta6):\n",
    "    \n",
    "    # unpack state vector\n",
    "    g_csgA, g_csgBCEFG, mRNA_csgA, mRNA_csgBCEFG,csgA_cyt, secBcsgA, secABYEGcsgA, F_cyt, csgB_cyt, secBcsgB, secABYEGcsgB, csgC_cyt, secBcsgC, secABYEGcsgC, csgE_cyt, secBcsgE, secABYEGcsgE, csgF_cyt, secBcsgF, secABYEGcsgF, csgG_cyt, secBcsgG, secABYEGcsgG, secB, secA, secYEG, csgE_9, csgG_9, csgGEF, csgA_per, F_per, csgB_per, csgC_per, csgCcsgA, csgCcsgB, csgE_per, csgF_per, csgG_per, csgF_ECM, csgA_ECM, F_ECM, csgB_ECM = state\n",
    "    \n",
    "    # compute derivatives\n",
    "    dmRNA_csgA = (alpha1 * g_csgA) - (zeta1 * mRNA_csgA)\n",
    "    dmRNA_csgBCEFG = (alpha2 * g_csgBCEFG) - (zeta2 * mRNA_csgBCEFG)\n",
    "    \n",
    "    dcsgA_cyt = (beta1 * mRNA_csgA) - (gamma1 * csgA_cyt * (secB ** 4)) + (gamma1d * secBcsgA) - (epsilon1 * (csgA_cyt ** 2)) + (epsilon1d * F_cyt) - (epsilon2 * F_cyt * csgA_cyt) + (epsilon2d * F_cyt)\n",
    "    dsecBcsgA = (gamma1 * csgA_cyt * (secB **4)) - (gamma1d * secBcsgA) - (gamma2 * secBcsgA * (secA ** 2) * (secYEG ** 2))\n",
    "    dsecABYEGcsgA = (gamma2 * secBcsgA * (secA ** 2) * (secYEG ** 2)) - (gamma3 * secABYEGcsgA)\n",
    "    dF_cyt = (epsilon1 * (csgA_cyt ** 2)) - (epsilon1d * F_cyt)\n",
    "    dcsgB_cyt = (beta2 * mRNA_csgBCEFG) - (gamma1 * csgB_cyt * (secB ** 4)) + (gamma1d * secBcsgB)\n",
    "    dsecBcsgB = (gamma1 * csgB_cyt * (secB **4)) - (gamma1d * secBcsgB) - (gamma2 * secBcsgB * (secA ** 2) * (secYEG ** 2))\n",
    "    dsecABYEGcsgB = (gamma2 * secBcsgB * (secA ** 2) * (secYEG ** 2)) - (gamma3 * secABYEGcsgB)\n",
    "    dcsgC_cyt = (beta3 * mRNA_csgBCEFG) - (gamma1 * csgC_cyt * (secB ** 4)) + (gamma1d * secBcsgC)\n",
    "    dsecBcsgC = (gamma1 * csgC_cyt * (secB **4)) - (gamma1d * secBcsgB) - (gamma2 * secBcsgB * (secA ** 2) * (secYEG ** 2))\n",
    "    dsecABYEGcsgC = (gamma2 * secBcsgC * (secA ** 2) * (secYEG ** 2)) - (gamma3 * secABYEGcsgC)\n",
    "    dcsgE_cyt = (beta4 * mRNA_csgBCEFG) - (gamma1 * csgE_cyt * (secB ** 4)) + (gamma1d * secBcsgE)\n",
    "    dsecBcsgE = (gamma1 * csgE_cyt * (secB **4)) - (gamma1d * secBcsgE) - (gamma2 * secBcsgE * (secA ** 2) * (secYEG ** 2))\n",
    "    dsecABYEGcsgE = (gamma2 * secBcsgE * (secA ** 2) * (secYEG ** 2)) - (gamma3 * secABYEGcsgE)\n",
    "    dcsgF_cyt = (beta5 * mRNA_csgBCEFG) - (gamma1 * csgF_cyt * (secB ** 4)) + (gamma1d * secBcsgF)\n",
    "    dsecBcsgF = (gamma1 * csgF_cyt * (secB **4)) - (gamma1d * secBcsgF) - (gamma2 * secBcsgF * (secA ** 2) * (secYEG ** 2))\n",
    "    dsecABYEGcsgF = (gamma2 * secBcsgF * (secA ** 2) * (secYEG ** 2)) - (gamma3 * secABYEGcsgF)\n",
    "    dcsgG_cyt = (beta6 * mRNA_csgBCEFG) - (gamma1 * csgG_cyt * (secB ** 4)) + (gamma1d * secBcsgB)\n",
    "    dsecBcsgG = (gamma1 * csgG_cyt * (secB **4)) - (gamma1d * secBcsgG) - (gamma2 * secBcsgG * (secA ** 2) * (secYEG ** 2))\n",
    "    dsecABYEGcsgG = (gamma2 * secBcsgG * (secA ** 2) * (secYEG ** 2)) - (gamma3 * secABYEGcsgG)\n",
    "    dsecB = (gamma3 * (secABYEGcsgA + secABYEGcsgB + secABYEGcsgC + secABYEGcsgE + secABYEGcsgF + secABYEGcsgG)) - (gamma1 * (secB ** 4) * (csgA_cyt + csgB_cyt + csgC_cyt + csgE_cyt + csgF_cyt + csgG_cyt)) + (gamma1d * (secBcsgA + secBcsgB + secBcsgC + secBcsgE + secBcsgF + secBcsgG))\n",
    "    dsecA = (gamma3 * (secABYEGcsgA + secABYEGcsgB + secABYEGcsgC + secABYEGcsgE + secABYEGcsgF + secABYEGcsgG)) - (gamma2 * (secA ** 2) * (secYEG ** 2) * (secBcsgA + secBcsgB + secBcsgC + secBcsgE + secBcsgF + secBcsgG))\n",
    "    dsecYEG = (gamma3 * (secABYEGcsgA + secABYEGcsgB + secABYEGcsgC + secABYEGcsgE + secABYEGcsgF + secABYEGcsgG)) - (gamma2 * (secA ** 2) * (secYEG ** 2) * (secBcsgA + secBcsgB + secBcsgC + secBcsgE + secBcsgF + secBcsgG))\n",
    "    \n",
    "    dcsgE_9 = (delta1 * (csgE_per ** 9)) - (delta1d * csgE_9)\n",
    "    dcsgG_9 = (delta3 * (csgG_per ** 9)) - (delta3d * csgG_9) - (delta4 * csgE_9 * (csgF_ECM ** 2) * csgG_9) + (delta4d * csgGEF)\n",
    "    dcsgGEF = (delta4 * csgE_9 * (csgF_ECM ** 2) * csgG_9) - (delta4d * csgGEF)\n",
    "    dcsgA_per = (gamma3 * secABYEGcsgA) - (delta5 * csgA_per * csgC_per) - (epsilon1 * (csgA_per ** 2)) + (epsilon1d * F_per) - (epsilon2 * F_per * csgA_per) + (epsilon2d * F_per)\n",
    "    dF_per = (epsilon1 * (csgA_per ** 2)) - (epsilon1d * F_per)\n",
    "    dcsgB_per = (gamma3 * secABYEGcsgB) - (delta5 * csgB_per * csgC_per)\n",
    "    dcsgC_per = (gamma3 * secABYEGcsgC) - (delta5 * csgA_per * csgC_per) - (delta5 * csgB_per * csgC_per) + (D * ((csgCcsgA - csgA_ECM) * 1e-3 / omega) * SA * N_A) + (D * ((csgCcsgB - csgB_ECM) * 1e-3 / omega) * SA * N_A)\n",
    "    dcsgCcsgA = (delta5 * csgA_per * csgC_per) - (D * ((csgCcsgA - csgA_ECM) * 1e-3 / omega))\n",
    "    dcsgCcsgB = (delta5 * csgB_per * csgC_per) - (D * ((csgCcsgB - csgB_ECM) * 1e-3 / omega))\n",
    "    dcsgE_per = (gamma3 * secABYEGcsgE)\n",
    "    dcsgF_per = (gamma3 * secABYEGcsgF) - D * ((csgF_per - csgF_ECM) * 1e-3 / omega) * SA * N_A\n",
    "    dcsgG_per = (gamma3 * secABYEGcsgF) - (delta3 * (csgG_per ** 9))\n",
    "    \n",
    "    dcsgF_ECM = D * ((csgF_per - csgF_ECM) * 1e-3 / omega) * SA * N_A\n",
    "    dcsgA_ECM = (D * ((csgCcsgA - csgA_ECM) * 1e-3 / omega) * SA * N_A) - (epsilon1 * (csgA_cyt ** 2)) + (epsilon1d * F_cyt) - (epsilon2 * F_cyt * csgA_cyt) + (epsilon2d * F_cyt)\n",
    "    dF_ECM = (epsilon1 * (csgA_ECM ** 2)) - (epsilon1d * F_ECM)\n",
    "    dcsgB_ECM = D * ((csgCcsgB - csgB_ECM) * 1e-3 / omega) * SA * N_A\n",
    "    \n",
    "    # return derivatives\n",
    "    derivatives = [g_csgA, g_csgBCEFG, dmRNA_csgA, dmRNA_csgBCEFG, dcsgA_cyt, dsecBcsgA, dsecABYEGcsgA, dF_cyt, dcsgB_cyt,\n",
    "            dsecBcsgB, dsecABYEGcsgB, dcsgC_cyt, dsecBcsgC, dsecABYEGcsgC, dcsgE_cyt,\n",
    "            dsecBcsgE, dsecABYEGcsgE, dcsgF_cyt, dsecBcsgF, dsecABYEGcsgF, dcsgG_cyt, dsecBcsgG,\n",
    "            dsecABYEGcsgG, dsecB, dsecA, dsecYEG, dcsgE_9, dcsgG_9, dcsgGEF, dcsgA_per, dF_per,\n",
    "            dcsgB_per, dcsgC_per, dcsgCcsgA, dcsgCcsgB, dcsgE_per, dcsgF_per, dcsgG_per, \n",
    "            dcsgF_ECM, dcsgA_ECM, dF_ECM, dcsgB_ECM]\n",
    "    derivatives_array = np.array(derivatives)\n",
    "    np.putmask(derivatives_array, derivatives_array < np.array([0]*42), 0)\n",
    "    return derivatives_array\n"
   ]
  },
  {
   "cell_type": "markdown",
   "metadata": {},
   "source": [
    "### Run Simulation (Varying csgA expression level)"
   ]
  },
  {
   "cell_type": "code",
   "execution_count": 5,
   "metadata": {},
   "outputs": [],
   "source": [
    "F_cyt = np.zeros((np.size(t), np.size(brange)))\n",
    "F_cyt_df = pd.DataFrame(F_cyt)\n",
    "F_cyt_f = np.zeros(np.size(brange))\n",
    "F_cyt_f_df = pd.DataFrame(F_cyt_f)\n",
    "csgA_ECM = np.zeros((np.size(t), np.size(brange)))\n",
    "csgA_ECM_df = pd.DataFrame(csgA_ECM)\n",
    "csgA_ECM_f = np.zeros(np.size(brange))\n",
    "csgA_ECM_f_df = pd.DataFrame(csgA_ECM_f)\n",
    "F_ECM_f = np.zeros(np.size(brange))\n",
    "F_ECM_f_df = pd.DataFrame(F_ECM_f)"
   ]
  },
  {
   "cell_type": "code",
   "execution_count": 6,
   "metadata": {
    "collapsed": true
   },
   "outputs": [],
   "source": [
    "# Simulation varying beta for csgA, all others at 1, collecting numbers for csgA_ECM\n",
    "for i in range(21):\n",
    "    tmp = odeint(CsgPathway, state_0, t, args=(beta[i], 1, 1, 1, 1, 1))\n",
    "    tmp_df = pd.DataFrame(tmp)\n",
    "    F_cyt_df.iloc[:, i] = tmp_df.iloc[:, 7]\n",
    "    F_cyt_f_df.iloc[i] = tmp_df.iloc[-1, 7]\n",
    "    csgA_ECM_df.iloc[:, i] = tmp_df.iloc[:, 39]\n",
    "    csgA_ECM_f_df.iloc[i] = tmp_df.iloc[-1, 39]\n",
    "    F_ECM_f_df.iloc[i] = tmp_df.iloc[-1, 40]\n",
    "\n",
    "ratio = F_ECM_f_df / F_cyt_f_df"
   ]
  },
  {
   "cell_type": "code",
   "execution_count": 7,
   "metadata": {},
   "outputs": [
    {
     "data": {
      "text/html": [
       "<iframe id=\"igraph\" scrolling=\"no\" style=\"border:none;\" seamless=\"seamless\" src=\"https://plot.ly/~h-seo/286.embed\" height=\"525px\" width=\"100%\"></iframe>"
      ],
      "text/plain": [
       "<plotly.tools.PlotlyDisplay object>"
      ]
     },
     "execution_count": 7,
     "metadata": {},
     "output_type": "execute_result"
    }
   ],
   "source": [
    "# csgA RBS strength vs. Ratio\n",
    "F_ECM_trace = go.Scatter (\n",
    "    x = brange, y = ratio.values, name = 'Ratio')\n",
    "data = [F_ECM_trace]\n",
    "layout = go.Layout(\n",
    "    title = 'Effect of csgA expression on the ratio of extracellular and intracellular fibril concentration', \n",
    "    xaxis = dict(\n",
    "        title = 'csgA RBS strength'\n",
    "    ),\n",
    "    yaxis = dict(\n",
    "        title = 'Ratio of F_ECM_f to F_cyt_f'\n",
    "    )\n",
    ")\n",
    "fig = go.Figure(data=data, layout=layout)\n",
    "py.iplot(fig)"
   ]
  },
  {
   "cell_type": "markdown",
   "metadata": {
    "collapsed": true
   },
   "source": [
    "### Simulation 2 (Varying csgB expression level)"
   ]
  },
  {
   "cell_type": "code",
   "execution_count": 8,
   "metadata": {
    "collapsed": true
   },
   "outputs": [],
   "source": [
    "# Simulation varying beta for csgB, csgA at max, all others at 1\n",
    "for i in range(21):\n",
    "    tmp = odeint(CsgPathway, state_0, t, args=(beta[20], beta[i], 1, 1, 1, 1))\n",
    "    tmp_df = pd.DataFrame(tmp) \n",
    "    F_cyt_df.iloc[:, i] = tmp_df.iloc[:, 7]\n",
    "    F_cyt_f_df.iloc[i] = tmp_df.iloc[-1, 7]\n",
    "    csgA_ECM_df.iloc[:, i] = tmp_df.iloc[:, 39]\n",
    "    csgA_ECM_f_df.iloc[i] = tmp_df.iloc[-1, 39]\n",
    "    F_ECM_f_df.iloc[i] = tmp_df.iloc[-1, 40]\n",
    "\n",
    "ratio = F_ECM_f_df / F_cyt_f_df"
   ]
  },
  {
   "cell_type": "code",
   "execution_count": 9,
   "metadata": {},
   "outputs": [
    {
     "data": {
      "text/html": [
       "<iframe id=\"igraph\" scrolling=\"no\" style=\"border:none;\" seamless=\"seamless\" src=\"https://plot.ly/~h-seo/288.embed\" height=\"525px\" width=\"100%\"></iframe>"
      ],
      "text/plain": [
       "<plotly.tools.PlotlyDisplay object>"
      ]
     },
     "execution_count": 9,
     "metadata": {},
     "output_type": "execute_result"
    }
   ],
   "source": [
    "# csgB RBS strength vs. Ratio\n",
    "F_ECM_trace = go.Scatter (\n",
    "    x = brange, y = ratio.values, name = 'Ratio')\n",
    "data = [F_ECM_trace]\n",
    "layout = go.Layout(\n",
    "    title = 'Effect of csgB expression on the ratio of extracellular and intracellular fibril concentration', \n",
    "    xaxis = dict(\n",
    "        title = 'csgB RBS strength'\n",
    "    ),\n",
    "    yaxis = dict(\n",
    "        title = 'Ratio of F_ECM_f to F_cyt_f')\n",
    ")\n",
    "fig = go.Figure(data=data, layout=layout)\n",
    "py.iplot(fig)"
   ]
  },
  {
   "cell_type": "markdown",
   "metadata": {},
   "source": [
    "### Simulation 3 (Varying csgC Expression Level)"
   ]
  },
  {
   "cell_type": "code",
   "execution_count": 10,
   "metadata": {
    "collapsed": true
   },
   "outputs": [],
   "source": [
    "# Simulation varying beta for csgC, csgA at max, csgB at 0, all others at 1\n",
    "for i in range(21):\n",
    "    tmp = odeint(CsgPathway, state_0, t, args=(beta[20], 0, beta[i], 1, 1, 1))\n",
    "    tmp_df = pd.DataFrame(tmp)\n",
    "    F_cyt_df.iloc[:, i] = tmp_df.iloc[:, 7]\n",
    "    F_cyt_f_df.iloc[i] = tmp_df.iloc[-1, 7]\n",
    "    csgA_ECM_df.iloc[:, i] = tmp_df.iloc[:, 39]\n",
    "    csgA_ECM_f_df.iloc[i] = tmp_df.iloc[-1, 39]\n",
    "    F_ECM_f_df.iloc[i] = tmp_df.iloc[-1, 40]\n",
    "\n",
    "ratio = F_ECM_f_df / F_cyt_f_df"
   ]
  },
  {
   "cell_type": "code",
   "execution_count": 11,
   "metadata": {},
   "outputs": [
    {
     "data": {
      "text/html": [
       "<iframe id=\"igraph\" scrolling=\"no\" style=\"border:none;\" seamless=\"seamless\" src=\"https://plot.ly/~h-seo/290.embed\" height=\"525px\" width=\"100%\"></iframe>"
      ],
      "text/plain": [
       "<plotly.tools.PlotlyDisplay object>"
      ]
     },
     "execution_count": 11,
     "metadata": {},
     "output_type": "execute_result"
    }
   ],
   "source": [
    "# csgC RBS strength vs. Ratio\n",
    "F_ECM_trace = go.Scatter (\n",
    "    x = brange, y = ratio.values, name = 'Ratio')\n",
    "data = [F_ECM_trace]\n",
    "layout = go.Layout(\n",
    "    title = 'Effect of csgC expression on the ratio of extracellular and intracellular fibril concentration', \n",
    "    xaxis = dict(\n",
    "        title = 'csgE RBS strength'\n",
    "    ),\n",
    "    yaxis = dict(\n",
    "        title = 'Ratio of F_ECM_f to F_cyt_f')\n",
    ")\n",
    "fig = go.Figure(data=data, layout=layout)\n",
    "py.iplot(fig)"
   ]
  },
  {
   "cell_type": "markdown",
   "metadata": {
    "collapsed": true
   },
   "source": [
    "### Simulation 4 (Varying csgE expression level)"
   ]
  },
  {
   "cell_type": "code",
   "execution_count": 12,
   "metadata": {
    "collapsed": true
   },
   "outputs": [],
   "source": [
    "# Simulation varying beta for csgE, csgA and csgC at max, csgB at 0, all others at 1\n",
    "\n",
    "F_ECM = np.zeros((np.size(t), np.size(brange)))\n",
    "F_ECM_df = pd.DataFrame(F_cyt)\n",
    "for i in range(21):\n",
    "    tmp = odeint(CsgPathway, state_0, t, args=(beta[20], 0, beta[20], beta[i], 1, 1))\n",
    "    tmp_df = pd.DataFrame(tmp)\n",
    "    F_cyt_df.iloc[:, i] = tmp_df.iloc[:, 7]\n",
    "    F_cyt_f_df.iloc[i] = tmp_df.iloc[-1, 7]\n",
    "    csgA_ECM_df.iloc[:, i] = tmp_df.iloc[:, 39]\n",
    "    csgA_ECM_f_df.iloc[i] = tmp_df.iloc[-1, 39]\n",
    "    F_ECM_df.iloc[:, i] = tmp_df.iloc[:, 40]\n",
    "    F_ECM_f_df.iloc[i] = tmp_df.iloc[-1, 40]\n",
    "\n",
    "ratio = F_ECM_f_df / F_cyt_f_df"
   ]
  },
  {
   "cell_type": "code",
   "execution_count": 13,
   "metadata": {},
   "outputs": [
    {
     "data": {
      "text/html": [
       "<iframe id=\"igraph\" scrolling=\"no\" style=\"border:none;\" seamless=\"seamless\" src=\"https://plot.ly/~h-seo/292.embed\" height=\"525px\" width=\"100%\"></iframe>"
      ],
      "text/plain": [
       "<plotly.tools.PlotlyDisplay object>"
      ]
     },
     "execution_count": 13,
     "metadata": {},
     "output_type": "execute_result"
    }
   ],
   "source": [
    "# csgE RBS strength vs. Ratio\n",
    "F_ECM_trace = go.Scatter (\n",
    "    x = brange, y = ratio.values, name = 'Ratio')\n",
    "data = [F_ECM_trace]\n",
    "layout = go.Layout(\n",
    "    title = 'Effect of csgE expression on the ratio of extracellular and intracellular fibril concentration', \n",
    "    xaxis = dict(\n",
    "        title = 'csgE RBS strength'\n",
    "    ),\n",
    "    yaxis = dict(\n",
    "        title = 'Ratio of F_ECM_f to F_cyt_f', \n",
    "        range = [0, 2e-20]\n",
    "    )\n",
    "        \n",
    ")\n",
    "fig = go.Figure(data=data, layout=layout)\n",
    "py.iplot(fig)"
   ]
  },
  {
   "cell_type": "markdown",
   "metadata": {
    "collapsed": true
   },
   "source": [
    "### Simulation 5 (Varying csgF expression level)"
   ]
  },
  {
   "cell_type": "code",
   "execution_count": 14,
   "metadata": {
    "collapsed": true
   },
   "outputs": [],
   "source": [
    "# Simulation varying beta for csgF, csgACE at max, csgB at 0, all others at 1\n",
    "for i in range(21):\n",
    "    tmp = odeint(CsgPathway, state_0, t, args=(beta[20], 0, beta[20], beta[0], beta[i], 1))\n",
    "    tmp_df = pd.DataFrame(tmp)\n",
    "    F_cyt_df.iloc[:, i] = tmp_df.iloc[:, 7]\n",
    "    F_cyt_f_df.iloc[i] = tmp_df.iloc[-1, 7]\n",
    "    csgA_ECM_df.iloc[:, i] = tmp_df.iloc[:, 39]\n",
    "    csgA_ECM_f_df.iloc[i] = tmp_df.iloc[-1, 39]\n",
    "    F_ECM_df.iloc[:, i] = tmp_df.iloc[:, 40]\n",
    "    F_ECM_f_df.iloc[i] = tmp_df.iloc[-1, 40]\n",
    "\n",
    "ratio = F_ECM_f_df / F_cyt_f_df"
   ]
  },
  {
   "cell_type": "code",
   "execution_count": 15,
   "metadata": {},
   "outputs": [
    {
     "data": {
      "text/html": [
       "<iframe id=\"igraph\" scrolling=\"no\" style=\"border:none;\" seamless=\"seamless\" src=\"https://plot.ly/~h-seo/294.embed\" height=\"525px\" width=\"100%\"></iframe>"
      ],
      "text/plain": [
       "<plotly.tools.PlotlyDisplay object>"
      ]
     },
     "execution_count": 15,
     "metadata": {},
     "output_type": "execute_result"
    }
   ],
   "source": [
    "# csgF RBS strength vs. Ratio\n",
    "F_ECM_trace = go.Scatter (\n",
    "    x = brange, y = ratio.values, name = 'Ratio')\n",
    "data = [F_ECM_trace]\n",
    "layout = go.Layout(\n",
    "    title = 'Effect of csgF expression on the ratio of extracellular and intracellular fibril concentration', \n",
    "    xaxis = dict(\n",
    "        title = 'csgF expression level'\n",
    "    ),\n",
    "    yaxis = dict(\n",
    "        title = 'Ratio of [F_ECM_f] to [F_cyt_f]')\n",
    ")\n",
    "fig = go.Figure(data=data, layout=layout)\n",
    "py.iplot(fig)"
   ]
  },
  {
   "cell_type": "markdown",
   "metadata": {},
   "source": [
    "### Simulation 6 (Varying csgG expression level)"
   ]
  },
  {
   "cell_type": "code",
   "execution_count": 16,
   "metadata": {
    "collapsed": true
   },
   "outputs": [],
   "source": [
    "# Simulation varying beta for csgG, csgACE at max, csgB at 0, csgF at 0.01\n",
    "for i in range(21):\n",
    "    tmp = odeint(CsgPathway, state_0, t, args=(beta[20], 0, beta[20], beta[0], beta[1], beta[i]))\n",
    "    tmp_df = pd.DataFrame(tmp)\n",
    "    F_cyt_df.iloc[:, i] = tmp_df.iloc[:, 7]\n",
    "    F_cyt_f_df.iloc[i] = tmp_df.iloc[-1, 7]\n",
    "    csgA_ECM_df.iloc[:, i] = tmp_df.iloc[:, 39]\n",
    "    csgA_ECM_f_df.iloc[i] = tmp_df.iloc[-1, 39]\n",
    "    F_ECM_df.iloc[:, i] = tmp_df.iloc[:, 40]\n",
    "    F_ECM_f_df.iloc[i] = tmp_df.iloc[-1, 40]\n",
    "\n",
    "ratio = F_ECM_f_df / F_cyt_f_df"
   ]
  },
  {
   "cell_type": "code",
   "execution_count": null,
   "metadata": {},
   "outputs": [
    {
     "data": {
      "text/html": [
       "<iframe id=\"igraph\" scrolling=\"no\" style=\"border:none;\" seamless=\"seamless\" src=\"https://plot.ly/~h-seo/296.embed\" height=\"525px\" width=\"100%\"></iframe>"
      ],
      "text/plain": [
       "<plotly.tools.PlotlyDisplay object>"
      ]
     },
     "execution_count": 17,
     "metadata": {},
     "output_type": "execute_result"
    }
   ],
   "source": [
    "# csgG RBS strength vs. Ratio\n",
    "F_ECM_trace = go.Scatter (\n",
    "    x = brange, y = ratio.values, name = 'Ratio')\n",
    "data = [F_ECM_trace]\n",
    "layout = go.Layout(\n",
    "    title = 'Effect of csgG expression on the ratio of extracellular and intracellular fibril concentration', \n",
    "    xaxis = dict(\n",
    "        title = 'csgF expression level'\n",
    "    ),\n",
    "    yaxis = dict(\n",
    "        title = 'Ratio of [F_ECM_f] to [F_cyt_f]',\n",
    "        range = [0, 1e-16]\n",
    "    )\n",
    ")\n",
    "fig = go.Figure(data=data, layout=layout)\n",
    "py.iplot(fig)"
   ]
  },
  {
   "cell_type": "markdown",
   "metadata": {},
   "source": [
    "### Simulation 7 (Multidimensional Analysis)"
   ]
  },
  {
   "cell_type": "code",
   "execution_count": null,
   "metadata": {},
   "outputs": [],
   "source": [
    "from itertools import combinations_with_replacement as combs\n",
    "\n",
    "F_cyt_f_df = pd.DataFrame(np.empty(np.size(brange)*6))\n",
    "F_ECM_f_df = pd.DataFrame(np.empty(np.size(brange)*6))\n",
    "for combo in combs(beta, 6):\n",
    "    a, b, c, d, e, f = combo\n",
    "    tmp = odeint(CsgPathway, state_0, t, args=(a, b, c, d, e, f))\n",
    "    tmp_df = pd.DataFrame(tmp)\n",
    "    F_cyt_f_df[a, b, c, d, e, f] = tmp_df.iloc[-1, 7]\n",
    "    F_ECM_f_df[a, b, c, d, e, f] = tmp_df.iloc[-1, 40]\n",
    "\n",
    "ratio = F_ECM_f_df / F_cyt_f_df"
   ]
  },
  {
   "cell_type": "code",
   "execution_count": null,
   "metadata": {
    "collapsed": true
   },
   "outputs": [],
   "source": [
    "a, b, c, d, e, f = np.argmax(ratio) "
   ]
  }
 ],
 "metadata": {
  "kernelspec": {
   "display_name": "Python 3",
   "language": "python",
   "name": "python3"
  },
  "language_info": {
   "codemirror_mode": {
    "name": "ipython",
    "version": 3
   },
   "file_extension": ".py",
   "mimetype": "text/x-python",
   "name": "python",
   "nbconvert_exporter": "python",
   "pygments_lexer": "ipython3",
   "version": "3.6.1"
  }
 },
 "nbformat": 4,
 "nbformat_minor": 2
}
