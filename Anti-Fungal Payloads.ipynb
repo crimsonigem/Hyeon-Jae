{
 "cells": [
  {
   "cell_type": "markdown",
   "metadata": {},
   "source": [
    "### Overview\n",
    "This is a collection of anti-fungal peptides. All the sequences in this notebook have been run through the IDT codon optimizer. "
   ]
  },
  {
   "cell_type": "markdown",
   "metadata": {},
   "source": [
    "#### Preparing DNA Sequences\n",
    "Import the sequences from a csv file into an array and generate the complement strands. "
   ]
  },
  {
   "cell_type": "code",
   "execution_count": null,
   "metadata": {
    "collapsed": true
   },
   "outputs": [],
   "source": [
    "import csv\n",
    "\n",
    "# Import AMP Array\n",
    "# Index corresponds to index in \"Anti-Fungal Payloads\" Google sheet\n",
    "\n",
    "AMPs = []\n",
    "with open('antifungal_payloads.csv', 'r') as file:\n",
    "    ampreader = csv.reader(file)\n",
    "    for row in ampreader:\n",
    "        if row[4] != 'NT Sequence':\n",
    "            row[4] = row[4].replace(\" \", \"\") # removes spaces from sequence\n",
    "            AMPs.append(row[4])\n",
    "\n",
    "# Generate complementary DNA strand\n",
    "def flip(DNA):\n",
    "\n",
    "    DNA_flipped = \"\"\n",
    "    \n",
    "    # makes the flipped sequence\n",
    "    for i in range(len(DNA)):\n",
    "        DNA_flipped += DNA[-(i + 1)]\n",
    "    \n",
    "    # returns the flipped sequence in a DNA dictionary construct\n",
    "    return DNA_flipped\n",
    "\n",
    "AMP_comp = []\n",
    "for seq in AMPs:\n",
    "    AMP_comp(append(flip(seq)))"
   ]
  },
  {
   "cell_type": "markdown",
   "metadata": {},
   "source": [
    "#### Screening\n",
    "Check all the sequences for illegal restriction sites"
   ]
  },
  {
   "cell_type": "code",
   "execution_count": null,
   "metadata": {
    "collapsed": true
   },
   "outputs": [],
   "source": [
    "# MoClo restriction sites - BBF RFC 94\n",
    "bbsi = 'gaagac'\n",
    "bsai = 'ggtctc'\n",
    "\n",
    "# Restriction sites from BBF RFC 25\n",
    "ngomiv = 'gccgcc'\n",
    "agei = 'accggt'\n",
    "\n",
    "# Dictionary of restriction sites to check\n",
    "rsites = {'bbsi': bbsi, 'bsai': bsai, 'ngomiv': ngomiv, 'agei': agei}"
   ]
  }
 ],
 "metadata": {
  "kernelspec": {
   "display_name": "Python 3",
   "language": "python",
   "name": "python3"
  },
  "language_info": {
   "codemirror_mode": {
    "name": "ipython",
    "version": 3
   },
   "file_extension": ".py",
   "mimetype": "text/x-python",
   "name": "python",
   "nbconvert_exporter": "python",
   "pygments_lexer": "ipython3",
   "version": "3.6.1"
  }
 },
 "nbformat": 4,
 "nbformat_minor": 2
}
