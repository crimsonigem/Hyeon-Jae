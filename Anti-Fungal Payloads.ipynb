{
 "cells": [
  {
   "cell_type": "markdown",
   "metadata": {},
   "source": [
    "### Overview\n",
    "This is a collection of anti-fungal peptide sequences. All the sequences in this notebook have been run through the IDT codon optimizer. "
   ]
  },
  {
   "cell_type": "markdown",
   "metadata": {},
   "source": [
    "#### Preparing DNA Sequences\n",
    "Import the sequences from a csv file into an array and generate the complement strands. "
   ]
  },
  {
   "cell_type": "code",
   "execution_count": 2,
   "metadata": {},
   "outputs": [],
   "source": [
    "import csv\n",
    "\n",
    "### Import AMP Array\n",
    "# Index corresponds to index in \"Anti-Fungal Payloads\" Google sheet\n",
    "\n",
    "AMPs = []\n",
    "with open('antifungal_payloads.csv', 'r') as file:\n",
    "    ampreader = csv.reader(file)\n",
    "    for row in ampreader:\n",
    "        if row[4] != 'NT Sequence':\n",
    "            row[4] = row[4].replace(\" \", \"\") # removes spaces from sequence\n",
    "            AMPs.append(row[4])\n",
    "\n",
    "### Generate complementary DNA strand\n",
    "def comp(DNA):\n",
    "    \n",
    "    DNA_comp = \"\"\n",
    "    for i in range(len(DNA)):\n",
    "        if DNA[i].upper() == \"A\":\n",
    "            DNA_comp += \"T\"\n",
    "        if DNA[i].upper() == \"T\":\n",
    "            DNA_comp += \"A\"\n",
    "        if DNA[i].upper() == \"C\":\n",
    "            DNA_comp += \"G\"\n",
    "        if DNA[i].upper() == \"G\":\n",
    "            DNA_comp += \"C\"\n",
    "    return DNA_comp.upper()\n",
    "\n",
    "AMP_comp = []\n",
    "for seq in AMPs:\n",
    "    AMP_comp.append(comp(seq))\n"
   ]
  },
  {
   "cell_type": "markdown",
   "metadata": {},
   "source": [
    "#### Screening\n",
    "Check all the sequences for illegal restriction sites, and if found, makes appropriate edits."
   ]
  },
  {
   "cell_type": "code",
   "execution_count": 6,
   "metadata": {},
   "outputs": [
    {
     "data": {
      "text/plain": [
       "'aaagccgcc'"
      ]
     },
     "execution_count": 6,
     "metadata": {},
     "output_type": "execute_result"
    }
   ],
   "source": [
    "### Codon Maps\n",
    "# Maps codons to amino acids\n",
    "nt_aa = {\n",
    "    'ATA':'I', 'ATC':'I', 'ATT':'I', 'ATG':'M',\n",
    "    'ACA':'T', 'ACC':'T', 'ACG':'T', 'ACT':'T',\n",
    "    'AAC':'N', 'AAT':'N', 'AAA':'K', 'AAG':'K',\n",
    "    'AGC':'S', 'AGT':'S', 'AGA':'R', 'AGG':'R',\n",
    "    'CTA':'L', 'CTC':'L', 'CTG':'L', 'CTT':'L',\n",
    "    'CCA':'P', 'CCC':'P', 'CCG':'P', 'CCT':'P',\n",
    "    'CAC':'H', 'CAT':'H', 'CAA':'Q', 'CAG':'Q',\n",
    "    'CGA':'R', 'CGC':'R', 'CGG':'R', 'CGT':'R',\n",
    "    'GTA':'V', 'GTC':'V', 'GTG':'V', 'GTT':'V',\n",
    "    'GCA':'A', 'GCC':'A', 'GCG':'A', 'GCT':'A',\n",
    "    'GAC':'D', 'GAT':'D', 'GAA':'E', 'GAG':'E',\n",
    "    'GGA':'G', 'GGC':'G', 'GGG':'G', 'GGT':'G',\n",
    "    'TCA':'S', 'TCC':'S', 'TCG':'S', 'TCT':'S',\n",
    "    'TTC':'F', 'TTT':'F', 'TTA':'L', 'TTG':'L',\n",
    "    'TAC':'Y', 'TAT':'Y', 'TAA':'*', 'TAG':'*',\n",
    "    'TGC':'C', 'TGT':'C', 'TGA':'*', 'TGG':'W',\n",
    "    }\n",
    "# Maps amino acids to codons\n",
    "aa_nt = {'I': ['ATA', 'ATC', 'ATT'],\n",
    "             'M': ['ATG'],\n",
    "             'T': ['ACA', 'ACC', 'ACG', 'ACT'],\n",
    "             'N': ['AAC', 'AAT'],\n",
    "             'K': ['AAA', 'AAG'],\n",
    "             'S': ['AGC', 'AGT', 'TCA', 'TCC', 'TCG', 'TCT'],\n",
    "             'R': ['AGA', 'AGG'],\n",
    "             'L': ['CTA', 'CTC', 'CTT', 'TTA', 'TTG'],\n",
    "             'P': ['CCA', 'CCC', 'CCG', 'CCT'],\n",
    "             'H': ['CAC', 'CAT'],\n",
    "             'Q': ['CAA', 'CAG'],\n",
    "             'R': ['CGA', 'CGC', 'CGG', 'CGT'],\n",
    "             'V': ['GTA', 'GTC', 'GTG', 'GTT'],\n",
    "             'A': ['GCA', 'GCC', 'GCG', 'GCT'],\n",
    "             'D': ['GAC', 'GAT'],\n",
    "             'E': ['GAA', 'GAG'],\n",
    "             'G': ['GGA', 'GGC', 'GGG', 'GGT'],\n",
    "             'F': ['TTC', 'TTT'],\n",
    "             'Y': ['TAC', 'TAT'],\n",
    "             'C': ['TGC', 'TGT'],\n",
    "             'W': ['TGG']}\n",
    "\n",
    "\n",
    "### Restriction Sites\n",
    "# MoClo restriction sites - BBF RFC 94\n",
    "bbsi = 'gaagac'\n",
    "bsai = 'ggtctc'\n",
    "\n",
    "### Restriction sites from BBF RFC 10\n",
    "ecori = 'gaattc'\n",
    "psti = 'ctgcag'\n",
    "noti = 'gcggccgc'\n",
    "xbai = 'tctaga'\n",
    "spei = 'actagt'\n",
    "\n",
    "# Restriction sites from BBF RFC 25\n",
    "ngomiv = 'gccgcc'\n",
    "agei = 'accggt'\n",
    "\n",
    "# Dictionary of restriction sites to check\n",
    "rsites = {'bbsi': bbsi, 'bsai': bsai, 'ecori': ecori, 'psti': psti, \n",
    "          'noti': noti, 'xbai': xbai, 'spei': spei, 'ngomiv': ngomiv, \n",
    "          'agei': agei}\n",
    "\n",
    "### Functions\n",
    "\n",
    "# Screens for restriction sites and makes appropriate changes\n",
    "def rsite_screen(rsites, seq):\n",
    "    for site in rsites:\n",
    "        if (site in seq):\n",
    "            pos = seq.find(site) # position of the cut site\n",
    "            print(pos)\n",
    "            def replace(pos):\n",
    "                cod1 = seq[pos:pos+3] \n",
    "                print(cod1)\n",
    "                aa = nt_aa[cod1]\n",
    "                print(aa)\n",
    "                ind = aa_nt[aa].index(cod1)\n",
    "                print(ind)\n",
    "                cod2 = aa_nt[aa][(ind + 1) % len(aa_nt[aa])]\n",
    "                print(cod2)\n",
    "                seq = seq[0:pos-1] + cod2 + seq[pos + 3:]\n",
    "                print(seq)\n",
    "            if (pos + 1) % 3 == 0:\n",
    "                replace(pos)\n",
    "            elif (pos + 1) % 3 == 1:\n",
    "                replace(pos - 1)\n",
    "            else:\n",
    "                replace(pos - 2)\n",
    "            rsite_screen(rsites, seq)\n",
    "\n",
    "test_seq = 'aaagccgcc'\n",
    "\n",
    "rsite_screen(rsites, test_seq)\n",
    "test_seq\n",
    "\n",
    "# Check coding and complementary strands for restriction sites\n",
    "#for seq in AMPs:\n",
    "   # rsite_screen(rsites, seq)\n",
    "            "
   ]
  },
  {
   "cell_type": "markdown",
   "metadata": {},
   "source": [
    "#### Writing the sequences back to a csv file"
   ]
  },
  {
   "cell_type": "code",
   "execution_count": null,
   "metadata": {
    "collapsed": true
   },
   "outputs": [],
   "source": []
  }
 ],
 "metadata": {
  "kernelspec": {
   "display_name": "Python 3",
   "language": "python",
   "name": "python3"
  },
  "language_info": {
   "codemirror_mode": {
    "name": "ipython",
    "version": 3
   },
   "file_extension": ".py",
   "mimetype": "text/x-python",
   "name": "python",
   "nbconvert_exporter": "python",
   "pygments_lexer": "ipython3",
   "version": "3.6.1"
  }
 },
 "nbformat": 4,
 "nbformat_minor": 2
}
