{
 "cells": [
  {
   "cell_type": "markdown",
   "metadata": {},
   "source": [
    "### Overview\n",
    "This is a collection of anti-fungal peptides. All the sequences in this notebook have been run through the IDT codon optimizer. "
   ]
  },
  {
   "cell_type": "markdown",
   "metadata": {},
   "source": [
    "#### Preparing DNA Sequences\n",
    "Import the sequences from a csv file into an array and generate the complement strands. "
   ]
  },
  {
   "cell_type": "code",
   "execution_count": null,
   "metadata": {
    "collapsed": true
   },
   "outputs": [],
   "source": [
    "import csv\n",
    "\n",
    "# Import AMP Array\n",
    "# Index corresponds to index in \"Anti-Fungal Payloads\" Google sheet\n",
    "\n",
    "AMPs = []\n",
    "with open('antifungal_payloads.csv', 'r') as file:\n",
    "    ampreader = csv.reader(file)\n",
    "    for row in ampreader:\n",
    "        if row[4] != 'NT Sequence':\n",
    "            row[4] = row[4].replace(\" \", \"\") # removes spaces from sequence\n",
    "            AMPs.append(row[4])\n",
    "\n",
    "# Generate complementary DNA strand\n",
    "def complementary(DNA):\n",
    "    \n",
    "    DNA_comp = \"\"\n",
    "    \n",
    "    # makes the complementary sequence\n",
    "    for i in range(len(DNA)):\n",
    "        if DNA[i].lower() == \"a\":\n",
    "            DNA_comp += \"t\"\n",
    "        if DNA[i].lower() == \"t\":\n",
    "            DNA_comp += \"a\"\n",
    "        if DNA[i].lower() == \"c\":\n",
    "            DNA_comp += \"g\"\n",
    "        if DNA[i].lower() == \"g\":\n",
    "            DNA_comp += \"c\"\n",
    "    \n",
    "    # returns the complementary sequence\n",
    "    return DNA_comp.upper()\n",
    "\n",
    "AMP_comp = []\n",
    "for seq in AMPs:\n",
    "    AMP_comp(append(flip(seq)))"
   ]
  },
  {
   "cell_type": "markdown",
   "metadata": {},
   "source": [
    "#### Screening\n",
    "Check all the sequences for illegal restriction sites, and if found, makes appropriate edits."
   ]
  },
  {
   "cell_type": "code",
   "execution_count": null,
   "metadata": {
    "collapsed": true
   },
   "outputs": [],
   "source": [
    "### a codon table dictionary with codons as keys and amino acids as values\n",
    "codontable = {\n",
    "    'ATA':'I', 'ATC':'I', 'ATT':'I', 'ATG':'M',\n",
    "    'ACA':'T', 'ACC':'T', 'ACG':'T', 'ACT':'T',\n",
    "    'AAC':'N', 'AAT':'N', 'AAA':'K', 'AAG':'K',\n",
    "    'AGC':'S', 'AGT':'S', 'AGA':'R', 'AGG':'R',\n",
    "    'CTA':'L', 'CTC':'L', 'CTG':'L', 'CTT':'L',\n",
    "    'CCA':'P', 'CCC':'P', 'CCG':'P', 'CCT':'P',\n",
    "    'CAC':'H', 'CAT':'H', 'CAA':'Q', 'CAG':'Q',\n",
    "    'CGA':'R', 'CGC':'R', 'CGG':'R', 'CGT':'R',\n",
    "    'GTA':'V', 'GTC':'V', 'GTG':'V', 'GTT':'V',\n",
    "    'GCA':'A', 'GCC':'A', 'GCG':'A', 'GCT':'A',\n",
    "    'GAC':'D', 'GAT':'D', 'GAA':'E', 'GAG':'E',\n",
    "    'GGA':'G', 'GGC':'G', 'GGG':'G', 'GGT':'G',\n",
    "    'TCA':'S', 'TCC':'S', 'TCG':'S', 'TCT':'S',\n",
    "    'TTC':'F', 'TTT':'F', 'TTA':'L', 'TTG':'L',\n",
    "    'TAC':'Y', 'TAT':'Y', 'TAA':'*', 'TAG':'*',\n",
    "    'TGC':'C', 'TGT':'C', 'TGA':'*', 'TGG':'W',\n",
    "    }\n",
    "\n",
    "\n",
    "### Restriction Sites\n",
    "# MoClo restriction sites - BBF RFC 94\n",
    "bbsi = 'gaagac'\n",
    "bsai = 'ggtctc'\n",
    "\n",
    "### Restriction sites from BBF RFC 10\n",
    "ecori = 'gaattc'\n",
    "psti = 'ctgcag'\n",
    "noti = 'gcggccgc'\n",
    "xbai = 'tctaga'\n",
    "spei = 'actagt'\n",
    "\n",
    "# Restriction sites from BBF RFC 25\n",
    "ngomiv = 'gccgcc'\n",
    "agei = 'accggt'\n",
    "\n",
    "# Dictionary of restriction sites to check\n",
    "rsites = {'bbsi': bbsi, 'bsai': bsai, 'ecori': ecori, 'psti': psti, \n",
    "          'noti': noti, 'xbai': xbai, 'spei': spei, 'ngomiv': ngomiv, \n",
    "          'agei': agei}\n",
    "\n",
    "def rsite_screen(rsites, seq):\n",
    "    for site in rsites:\n",
    "        if (site in seq):\n",
    "            "
   ]
  }
 ],
 "metadata": {
  "kernelspec": {
   "display_name": "Python 3",
   "language": "python",
   "name": "python3"
  },
  "language_info": {
   "codemirror_mode": {
    "name": "ipython",
    "version": 3
   },
   "file_extension": ".py",
   "mimetype": "text/x-python",
   "name": "python",
   "nbconvert_exporter": "python",
   "pygments_lexer": "ipython3",
   "version": "3.6.1"
  }
 },
 "nbformat": 4,
 "nbformat_minor": 2
}
