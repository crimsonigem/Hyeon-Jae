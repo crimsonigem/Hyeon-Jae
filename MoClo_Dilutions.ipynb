{
 "cells": [
  {
   "cell_type": "markdown",
   "metadata": {},
   "source": [
    "# Calculations for MoClo Assembly"
   ]
  },
  {
   "cell_type": "markdown",
   "metadata": {},
   "source": [
    "### MoClo Recipe\n",
    "1. 10 units of BbsI or BsaI (0.5 uL)\n",
    "2. 10 units DNA ligase (2.5 uL gives 1000 units, add 97.5 uL H2O to get 10 units/uL)\n",
    "3. 1x Ligase buffer (1 uL)\n",
    "4. 1 uL of each DNA part (see below for dilutions)"
   ]
  },
  {
   "cell_type": "code",
   "execution_count": 2,
   "metadata": {},
   "outputs": [],
   "source": [
    "# 10 units BsaI or BbsI\n",
    "res_enz = 5 * (10**-7)\n",
    "\n",
    "# 10 units DNA ligase\n",
    "# 2.5 uL gives 1000 units, add 97.5 uL H2O to get 10 units/uL\n",
    "ligase = 10**-6\n",
    "\n",
    "# 1x Ligase buffer\n",
    "buffer = 10**-6\n",
    "\n",
    "# 10 fmol of each DNA part\n",
    "mol_DNA = 10 * (10**-15)\n",
    "\n",
    "# Total Reaction volume: 10 uL\n",
    "rxn_vol = 10 * (10**-6) # 10 uL"
   ]
  },
  {
   "cell_type": "markdown",
   "metadata": {},
   "source": [
    "### Gblock Dilutions"
   ]
  },
  {
   "cell_type": "code",
   "execution_count": 3,
   "metadata": {},
   "outputs": [
    {
     "name": "stdout",
     "output_type": "stream",
     "text": [
      "Number of base pairs: 560\n",
      "Add 100 uL of TE buffer to lyophilized DNA to get an intermediate 13.658 nM solution\n",
      "Add 1.464 uL of intermediate solution to 0.536 uL TE buffer to get 10.0 nM final DNA solution\n",
      "Add 1.0 uL of DNA solution to reaction mixture\n"
     ]
    }
   ],
   "source": [
    "### CALCULATING NUMBER OF MOLES\n",
    "avo_num = 6.02214 * (10**23)\n",
    "bp = float(input(\"Number of base pairs: \"))\n",
    "\n",
    "# Molecular weight of the DNA part (g/mol)\n",
    "MW = bp * 650 * 1.67 * (10**-24) * avo_num\n",
    "\n",
    "# Determine the mass of DNA based on the number of base pairs\n",
    "amounts_ng = [250, 500, 1000]\n",
    "if bp < 251:\n",
    "    ng = amounts_ng[0]\n",
    "elif bp > 250 and bp < 751:\n",
    "    ng = amounts_ng[1]\n",
    "else:\n",
    "    ng = amounts_ng[2]\n",
    "\n",
    "# Moles of DNA present in gblock sample\n",
    "mols = ng * (10**-9) * (1 / MW) \n",
    "fmols = mols * (10**15)\n",
    "\n",
    "\n",
    "\n",
    "### DILUTIONS\n",
    "# Dilution 1\n",
    "conc = mols / (100 * 10**-6)\n",
    "conc_nM = conc * 10**9\n",
    "\n",
    "# Final dilution\n",
    "gblock_vol = 10**-6 # 1 uL\n",
    "gblock_vol_uL = part_vol * 10**6\n",
    "gblock_conc = mol_DNA / part_vol \n",
    "gblock_conc_nM = part_conc * 10**9 \n",
    "\n",
    "aliquot = mol_DNA * 2 / conc\n",
    "aliquot_uL = aliquot * (10**6)\n",
    "\n",
    "vol_2 = (mol_DNA * 2 / gblock_conc) - aliquot\n",
    "vol_2_uL = vol_2 * (10**6)\n",
    "\n",
    "\n",
    "\n",
    "### INSTRUCTIONS\n",
    "print(\"Add 100 uL of TE buffer to lyophilized DNA to get an intermediate\", \n",
    "      round(conc_nM, 3), \"nM solution\")\n",
    "print(\"Add\", round(aliquot_uL, 3), \"uL of intermediate solution to\",\n",
    "     round(vol_2_uL, 3), \"uL TE buffer to get\", round(gblock_conc_nM, 3), \"nM final DNA solution\")\n",
    "print(\"Add\", round(gblock_vol_uL, 3), \"uL of DNA solution to reaction mixture\")"
   ]
  },
  {
   "cell_type": "markdown",
   "metadata": {},
   "source": [
    "### Ultramer Dilutions"
   ]
  },
  {
   "cell_type": "markdown",
   "metadata": {},
   "source": [
    "#### Anneal parts\n",
    "1. Add 100 uL of TE Buffer to lyophilized DNA (40 umol/L)\n",
    "2. Add 20 uL of DNA solution to 80 uL TE buffer (8 umol/L)\n",
    "3. Add 974 uL TE Buffer, 17 uL 3M NaCl solution, and 5 uL each of forward/reverse primer \n",
    "(40 fmol/uL)\n",
    "4. Place in 94 C heat block for 3 minutes, allow to return to room temp on bench"
   ]
  },
  {
   "cell_type": "code",
   "execution_count": 5,
   "metadata": {},
   "outputs": [
    {
     "name": "stdout",
     "output_type": "stream",
     "text": [
      "For each DNA part:\n",
      "Add 0.25 uL of annealed solution to reaction mixture\n"
     ]
    }
   ],
   "source": [
    "# DILUTION\n",
    "annealed_conc = 40 * (10**-15) / (10**-6) # 40 nM\n",
    "ultramer_vol = mol_DNA / annealed_conc\n",
    "ultramer_vol_uL = ultramer_vol * (10**6)\n",
    "\n",
    "# INSTRUCTIONS\n",
    "print(\"For each DNA part:\")\n",
    "print(\"Add\", ultramer_vol_uL, \"uL of annealed solution to reaction mixture\")"
   ]
  },
  {
   "cell_type": "markdown",
   "metadata": {},
   "source": [
    "### Adding Buffer"
   ]
  },
  {
   "cell_type": "code",
   "execution_count": null,
   "metadata": {},
   "outputs": [],
   "source": [
    "# Add buffer to reach final reaction volume\n",
    "gblock_parts = float(input(\"Number of gblock parts: \"))\n",
    "ultramer_parts = float(input(\"Number of ultramer parts: \"))\n",
    "final_buffer = rxn_vol - res_enz - ligase - buffer - (gblock_parts * gblock_volume) - \n",
    "                (ultramer_parts * ultramer_volume)\n",
    "final_buffer_uL = final_buffer * (10**6)\n",
    "\n",
    "print(\"Add\", round(final_buffer_uL, 3), \"uL of TE buffer to reach a final volume of 10 uL\")"
   ]
  }
 ],
 "metadata": {
  "kernelspec": {
   "display_name": "Python 3",
   "language": "python",
   "name": "python3"
  },
  "language_info": {
   "codemirror_mode": {
    "name": "ipython",
    "version": 3
   },
   "file_extension": ".py",
   "mimetype": "text/x-python",
   "name": "python",
   "nbconvert_exporter": "python",
   "pygments_lexer": "ipython3",
   "version": "3.6.1"
  }
 },
 "nbformat": 4,
 "nbformat_minor": 2
}
