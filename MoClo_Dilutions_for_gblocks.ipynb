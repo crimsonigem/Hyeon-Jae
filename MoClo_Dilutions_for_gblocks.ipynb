{
 "cells": [
  {
   "cell_type": "markdown",
   "metadata": {},
   "source": [
    "### MoClo Dilutions for gblocks"
   ]
  },
  {
   "cell_type": "markdown",
   "metadata": {},
   "source": [
    "#### Calculating number of moles"
   ]
  },
  {
   "cell_type": "code",
   "execution_count": 3,
   "metadata": {},
   "outputs": [
    {
     "name": "stdout",
     "output_type": "stream",
     "text": [
      "Number of base pairs: 560\n",
      "Mols of DNA:  1.3658446377044096e-12\n"
     ]
    }
   ],
   "source": [
    "avo_num = 6.02214 * 10 ** 23\n",
    "bp = float(input(\"Number of base pairs: \"))\n",
    "MW = bp * 650 * 1.67 * 10**-24\n",
    "mols = 500 * 10**-9 * (1 / MW) * (1 / avo_num)\n",
    "print(\"Mols of DNA: \", mols)"
   ]
  },
  {
   "cell_type": "markdown",
   "metadata": {},
   "source": [
    "#### Serial Dilutions"
   ]
  },
  {
   "cell_type": "code",
   "execution_count": 8,
   "metadata": {},
   "outputs": [
    {
     "name": "stdout",
     "output_type": "stream",
     "text": [
      "Add 50 uL of H2O to get 2.7316892754088195e-08 M solution\n",
      "Move to larger tube, add 950 uL to get 1.3658446377044095e-09 M solution\n"
     ]
    }
   ],
   "source": [
    "c1 = mols / (50 * 10**-6)\n",
    "print(\"Add 50 uL of H2O to get\", c1, \"M solution\")\n",
    "c2 = mols / (10**-3)\n",
    "print(\"Move to larger tube, add 950 uL to get\", c2, \"M solution\")"
   ]
  },
  {
   "cell_type": "code",
   "execution_count": null,
   "metadata": {
    "collapsed": true
   },
   "outputs": [],
   "source": []
  }
 ],
 "metadata": {
  "kernelspec": {
   "display_name": "Python 3",
   "language": "python",
   "name": "python3"
  },
  "language_info": {
   "codemirror_mode": {
    "name": "ipython",
    "version": 3
   },
   "file_extension": ".py",
   "mimetype": "text/x-python",
   "name": "python",
   "nbconvert_exporter": "python",
   "pygments_lexer": "ipython3",
   "version": "3.6.1"
  }
 },
 "nbformat": 4,
 "nbformat_minor": 2
}
