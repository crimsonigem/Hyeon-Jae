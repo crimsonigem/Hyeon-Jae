{
 "cells": [
  {
   "cell_type": "markdown",
   "metadata": {},
   "source": [
    "### MoClo Dilutions for gblocks"
   ]
  },
  {
   "cell_type": "markdown",
   "metadata": {},
   "source": [
    "#### Calculating number of moles"
   ]
  },
  {
   "cell_type": "code",
   "execution_count": 1,
   "metadata": {},
   "outputs": [
    {
     "name": "stdout",
     "output_type": "stream",
     "text": [
      "Number of base pairs: 560\n",
      "MW:  366073.84631999995 g/mol\n",
      "Moles of DNA:  1.3658446377044098e-12\n",
      "Femtomoles of DNA 1365.8446377044097\n"
     ]
    }
   ],
   "source": [
    "avo_num = 6.02214 * (10**23)\n",
    "bp = float(input(\"Number of base pairs: \"))\n",
    "\n",
    "# Molecular weight of the DNA part (g/mol)\n",
    "MW = bp * 650 * 1.67 * (10**-24) * avo_num\n",
    "print(\"MW: \", MW, \"g/mol\")\n",
    "\n",
    "\n",
    "# Determine the mass of DNA based on the number of base pairs\n",
    "amounts_ng = [250, 500, 1000]\n",
    "if bp < 251:\n",
    "    ng = amounts_ng[0]\n",
    "elif bp > 250 and bp < 751:\n",
    "    ng = amounts_ng[1]\n",
    "else:\n",
    "    ng = amounts_ng[2]\n",
    "\n",
    "# Moles of DNA present in gblock sample\n",
    "mols = ng * (10**-9) * (1 / MW) \n",
    "fmols = mols * (10**15)\n",
    "print(\"Moles of DNA: \", mols)\n",
    "print(\"Femtomoles of DNA\", fmols)"
   ]
  },
  {
   "cell_type": "markdown",
   "metadata": {},
   "source": [
    "#### Dilution"
   ]
  },
  {
   "cell_type": "code",
   "execution_count": 2,
   "metadata": {},
   "outputs": [
    {
     "name": "stdout",
     "output_type": "stream",
     "text": [
      "Add 50 uL of H2O to get an intermediate 27.317 nM solution\n",
      "Transfer solution to another vial, add 150 uL H2O to get 6.829 nM solution\n"
     ]
    }
   ],
   "source": [
    "# Dilution 1\n",
    "conc = mols / (50 * 10**-6)\n",
    "conc_nM = conc * 10**9\n",
    "print(\"Add 50 uL of H2O to get an intermediate\", round(conc_nM, 3), \"nM solution\")\n",
    "\n",
    "# Dilution 2\n",
    "conc2 = mols / (200 * 10**-6)\n",
    "conc2_nM = conc2 * 10**9\n",
    "print(\"Transfer solution to another vial, add 150 uL H2O to get\", round(conc2_nM, 3), \n",
    "      \"nM solution\")"
   ]
  },
  {
   "cell_type": "markdown",
   "metadata": {},
   "source": [
    "#### MoClo Recipe"
   ]
  },
  {
   "cell_type": "code",
   "execution_count": 5,
   "metadata": {},
   "outputs": [
    {
     "name": "stdout",
     "output_type": "stream",
     "text": [
      "Number of DNA parts: 1\n",
      "For each DNA part, take 2.929 uL of intermediate solution\n",
      "Add 57.071 uL of H2O to get to 0.00133 uM\n",
      "Add 7.5 uL of DNA solution to reaction mixture\n"
     ]
    }
   ],
   "source": [
    "# 10 units BsaI or BbsI\n",
    "res_enz = 5 * (10**-7)\n",
    "\n",
    "# 10 units DNA ligase\n",
    "# 1.75 uL gives 700 units, add 68.25 uL H2O to get 10 units/uL\n",
    "ligase = 10**-6\n",
    "\n",
    "# 1x Ligase buffer\n",
    "buffer = 10**-6\n",
    "\n",
    "# 10 fmol of each DNA part\n",
    "mol_DNA = 10 * (10**-15)\n",
    "aliquot = mol_DNA * 2 / conc2\n",
    "aliquot_uL = aliquot * (10**6)\n",
    "\n",
    "# Calculating final dilution\n",
    "num_parts = float(input(\"Number of DNA parts: \"))\n",
    "rxn_vol = 10 * (10**-6)\n",
    "part_volume = (rxn_vol - res_enz - ligase - buffer) / num_parts\n",
    "part_volume_uL = part_volume * 10**6\n",
    "part_conc = (10 * (10**-15)) / part_volume\n",
    "part_conc_nM = part_conc  * 10**6\n",
    "final_vol_uL = conc * aliquot_uL / part_conc\n",
    "water_uL = final_vol_uL - aliquot_uL\n",
    "\n",
    "# Instructions\n",
    "print(\"For each DNA part, take\", round(aliquot_uL, 3), \"uL of intermediate solution\")\n",
    "print(\"Add\", round(water_uL, 3), \"uL of H2O to get to\", round(part_conc_uM, 5), \"uM\")\n",
    "print(\"Add\", round(part_volume_uL, 3), \"uL of DNA solution to reaction mixture\")"
   ]
  },
  {
   "cell_type": "markdown",
   "metadata": {},
   "source": [
    "#### Checking the math"
   ]
  },
  {
   "cell_type": "code",
   "execution_count": 4,
   "metadata": {},
   "outputs": [
    {
     "name": "stdout",
     "output_type": "stream",
     "text": [
      "Total volume: 10.0 uL\n"
     ]
    }
   ],
   "source": [
    "total_vol = res_enz + ligase + buffer + (num_parts * part_volume)\n",
    "total_vol_uL = total_vol * 10**6\n",
    "print(\"Total volume:\", total_vol_uL, \"uL\")"
   ]
  },
  {
   "cell_type": "code",
   "execution_count": null,
   "metadata": {
    "collapsed": true
   },
   "outputs": [],
   "source": []
  }
 ],
 "metadata": {
  "kernelspec": {
   "display_name": "Python 3",
   "language": "python",
   "name": "python3"
  },
  "language_info": {
   "codemirror_mode": {
    "name": "ipython",
    "version": 3
   },
   "file_extension": ".py",
   "mimetype": "text/x-python",
   "name": "python",
   "nbconvert_exporter": "python",
   "pygments_lexer": "ipython3",
   "version": "3.6.1"
  }
 },
 "nbformat": 4,
 "nbformat_minor": 2
}
